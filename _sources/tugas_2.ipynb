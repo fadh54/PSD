{
  "nbformat": 4,
  "nbformat_minor": 0,
  "metadata": {
    "colab": {
      "provenance": []
    },
    "kernelspec": {
      "name": "python3",
      "display_name": "Python 3"
    },
    "language_info": {
      "name": "python"
    }
  },
  "cells": [
    {
      "cell_type": "markdown",
      "source": [
        "#Analisis Perilaku konsumen berdasarkan Data Penjualan Alfamart#\n",
        "\n",
        "## BAB I ##\n",
        "## Pendahluan ##\n",
        "\n",
        "### Latar Belakang ###\n",
        "\n",
        "Alfamart merupakan salah satu minimarket di Indonesia yang dikelola PT Sumber Alfaria Trijaya, Tbk. Alfamart berdiri pada tahun 1989 yang didirikan oleh Djoko Susanto yang bergerak dalam bidang perdagangan dan distribusi. Alfamart menediakan barang-barang kebutuhan sehari-hari dengan harga yang terjangkau dan menjadi salah satu pilihan bagi konsumen untuk berbelanja.\n",
        "\n",
        "Alfamart mempunyai visi dan misi tersendiri dalam berjalannya bisnis. Visi dari Alfamart yaitu “Menjadi jaringan distribusi ritel terkemuka yang dimiliki oleh masyarakat luas, berorientasi kepada pemberdayaan pengussaha kecil, pemenuhan kebutuhan dan harapan konsumen, serta mampu bersaing secara global”. Misi dari Alfamart terdapat :\n",
        "-\tMemberikan kepuasan kepada pelanggan/konsumen dengan berfokus pada produk dan pelayanan yang berkualitas unggul.\n",
        "-\tSelalu menjadi yang terbaik dalam segala hal yang dilakukan dan selalu menegakkan tingkah laku/etika bisnis yang tinggi.\n",
        "-\tIkut berpartisipasi dalam membangun negara dengan menumbuh-kembangkan jiwa wiraswasta dan kemitraan usaha.\n",
        "-\tMembangun organisasi global yang terpercaya, sehat dan terus bertumbuh dan bermanfaat bagi pelanggan, pemasok karyawan, pemegang saham dan masyarakat pada umumnya.\n",
        "\n",
        "Alfamart mempunyai beberapa strategi bisnis yang berfokus pada tercapainya visi sebagai jaringan distribusi ritel terkemuka dengan cara penerapan model bisnis waralaba, pengalaman pelanggan, inovasi produk dan layanan serta transformasi digital. Adapun target bisnis dari Alfamart yaitu mencakup peningkatan pasar dengan penawaran produk yang bervariatif, penambahan jumlah toko dan meningkatkan keterlibatan digital. Setiap bisnis yang dibangun pasti mempunyati tujuan yang berbeda-beda, sama halnya dengan alfamart memilikia tujuan bisnis tersendiri mendukung ekonomi lokal dan nasional, menjadi pilihan berbelanja kebutuhan sehari-hari oleh konsumen, mengoptimalkan efisiensi operasional.\n",
        "\n",
        "### Tujuan ###\n",
        "- Membantu dalam memahami preferensi pembelian konsumen\n",
        "-\tMembantu meningkatkan efektivitas dalam promosi\n",
        "-\tDapat meningkatkan layanan berdasarkan perilaku pelanggan\n",
        "\n",
        "### Rumusan Masalah ###\n",
        "Bagaimana memahami preferensi pembelian konsumen, meningkatkan efektivitas promosi dan meningkatkan layanan berdasarkan pengalaman pelanggan dengan menggunakan data penjualan di Alfamart sehingga dapat mengoptimalkan strategi pemasaran?"
      ],
      "metadata": {
        "id": "tiABcIgKHBoT"
      }
    }
  ]
}